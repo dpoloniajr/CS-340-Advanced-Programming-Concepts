{
 "cells": [
  {
   "cell_type": "code",
   "execution_count": null,
   "metadata": {},
   "outputs": [],
   "source": [
    "# ==================================================================\n",
    "# File: Mock Test Script Class\n",
    "# Programmer Name: Domingo Polonia Jr\n",
    "# Created For: Advanced Programming Concepts CS340\n",
    "# Creation Date: December 2022\n",
    "# Course: CS499 Capstone\n",
    "# Date: 02-21-2024\n",
    "# Version: 1.2\n",
    "# Description: This Python class file is used to for testing of the\n",
    "# authentication and database access in a live development environment\n",
    "# ==================================================================\n",
    "\n",
    "# Install mongomock if it is not already installed\n",
    "# Mongomock is a library for in-memory database access\n",
    "!pip install mongomock\n",
    "\n",
    "import mongomock\n",
    "from CrudModule import AnimalShelter \n",
    "\n",
    "# Create a mongomock connection to simulate MongoDB for testing\n",
    "mock_client = mongomock.MongoClient()\n",
    "\n",
    "# The development environment is now accessible for testing"
   ]
  },
  {
   "cell_type": "code",
   "execution_count": 6,
   "metadata": {},
   "outputs": [],
   "source": [
    "# Use the mongomock client to create a 'animals' database\n",
    "mock_db = mock_client[\"animals\"]\n",
    "\n",
    "# Now, you can use the AnimalShelter class with the mock database for testing\n",
    "animal_shelter = AnimalShelter(user=\"testUser\", password=\"testPass\", aacuser=\"testAacuser\", UserCS340=\"testUserCS340\", db_connection=mock_db)"
   ]
  },
  {
   "cell_type": "code",
   "execution_count": 14,
   "metadata": {},
   "outputs": [],
   "source": [
    "# Define animal data to insert\n",
    "animal_data = [\n",
    "    {\"name\": \"bark\", \"type\": \"dog\", \"color\": \"brown\"},\n",
    "    {\"name\": \"meow\", \"type\": \"cat\", \"color\": \"orange\"},\n",
    "    {\"name\": \"squeek\", \"type\": \"rat\", \"color\": \"grey\"}\n",
    "]"
   ]
  },
  {
   "cell_type": "code",
   "execution_count": null,
   "metadata": {},
   "outputs": [],
   "source": [
    "# Insert the animal data into the mock 'animals' collection using the AnimalShelter CRUD operations\n",
    "for animal in animal_data:\n",
    "    insert_result = animal_shelter.create(animal)\n",
    "    print(insert_result)"
   ]
  },
  {
   "cell_type": "code",
   "execution_count": null,
   "metadata": {},
   "outputs": [],
   "source": [
    "# Find the animal with the name \"meow\"\n",
    "meow_result = animal_shelter.read({\"name\": \"meow\"})\n",
    "print(meow_result)"
   ]
  },
  {
   "cell_type": "code",
   "execution_count": null,
   "metadata": {},
   "outputs": [],
   "source": [
    "# Update the animal with the type \"dog\"\n",
    "update_result = animal_shelter.update({\"type\": \"dog\"}, {\"type\": \"monkey\"})\n",
    "print(update_result)"
   ]
  },
  {
   "cell_type": "code",
   "execution_count": 49,
   "metadata": {},
   "outputs": [],
   "source": [
    "# Delete the animal with the color \"grey\"\n",
    "delete_result = animal_shelter.delete({\"color\": \"grey\"})\n",
    "print(delete_result)"
   ]
  },
  {
   "cell_type": "code",
   "execution_count": null,
   "metadata": {},
   "outputs": [],
   "source": [
    "# Verify delete\n",
    "grey_animals = mock_db.animals.find({\"color\": \"grey\"})\n",
    "print(list(grey_animals))  # Should be empty if delete was successful"
   ]
  }
 ],
 "metadata": {
  "kernelspec": {
   "display_name": "Python 3",
   "language": "python",
   "name": "python3"
  },
  "language_info": {
   "codemirror_mode": {
    "name": "ipython",
    "version": 3
   },
   "file_extension": ".py",
   "mimetype": "text/x-python",
   "name": "python",
   "nbconvert_exporter": "python",
   "pygments_lexer": "ipython3",
   "version": "3.6.9"
  }
 },
 "nbformat": 4,
 "nbformat_minor": 2
}
