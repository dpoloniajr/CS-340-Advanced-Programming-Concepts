{
 "cells": [
  {
   "cell_type": "code",
   "execution_count": null,
   "metadata": {},
   "outputs": [],
   "source": [
    "# ==================================================================\n",
    "# File: Live Test Script\n",
    "# Programmer Name: Domingo Polonia Jr\n",
    "# Created For: Advanced Programming Concepts CS340\n",
    "# Creation Date: December 2022\n",
    "# Course: CS499 Capstone\n",
    "# Date: 02-21-2024\n",
    "# Version: 2.2\n",
    "# Description: This Python class file is used to for testing of the\n",
    "# authentication and database access in a live production environment\n",
    "# ==================================================================\n",
    "\n",
    "# Install pymongo if it is not already installed\n",
    "!pip install pymongo\n",
    "\n",
    "import pymongo\n",
    "import json\n",
    "\n",
    "# Connect to the MongoDB instance\n",
    "client = pymongo.MongoClient(\"mongodb://localhost:53598/\")\n",
    "\n",
    "# The production environment is now accessible for testing"
   ]
  },
  {
   "cell_type": "code",
   "execution_count": 6,
   "metadata": {},
   "outputs": [],
   "source": [
    "# Get the 'animals' database\n",
    "db = client[\"animals\"]\n",
    "\n",
    "# Get the 'animals' collection\n",
    "animals = db[\"animals\"]"
   ]
  },
  {
   "cell_type": "code",
   "execution_count": 14,
   "metadata": {},
   "outputs": [],
   "source": [
    "animal_data = [\n",
    "    {\n",
    "        \"name\": \"bark\",\n",
    "        \"type\": \"dog\",\n",
    "       \"color\": \"brown\"\n",
    "    },\n",
    "    {\n",
    "        \"name\": \"meow\",\n",
    "        \"type\": \"cat\",\n",
    "       \"color\": \"orange\"\n",
    "    },\n",
    "    {\n",
    "        \"name\": \"squeek\",\n",
    "        \"type\": \"rat\",\n",
    "       \"color\": \"grey\"\n",
    "    }  \n",
    "]"
   ]
  },
  {
   "cell_type": "code",
   "execution_count": null,
   "metadata": {},
   "outputs": [],
   "source": [
    "# Insert the animal data into the 'animals' collection\n",
    "insert_result = animals.insert_many(animal_data)\n",
    "print(insert_result.inserted_ids)"
   ]
  },
  {
   "cell_type": "code",
   "execution_count": null,
   "metadata": {},
   "outputs": [],
   "source": [
    "# Find the animal with the name \"meow\"\n",
    "meow = animals.find({\"name\": \"meow\"})\n",
    "print(meow)"
   ]
  },
  {
   "cell_type": "code",
   "execution_count": null,
   "metadata": {},
   "outputs": [],
   "source": [
    "# Update the animal with the type \"dog\"\n",
    "dog = (animals.update_one({\"type\": \"dog\"}, {\"$set\": {\"type\": \"monkey\"}}))\n",
    "for x in animals.find({\"type\": \"monkey\"}):\n",
    "    print(x)"
   ]
  },
  {
   "cell_type": "code",
   "execution_count": 49,
   "metadata": {},
   "outputs": [],
   "source": [
    "# Delete the animal with the color \"grey\"\n",
    "grey = (animals.delete_one({\"color\": \"grey\"}))\n",
    "for x in animals.find({\"color\": \"grey\"}):\n",
    "    print(x)"
   ]
  },
  {
   "cell_type": "code",
   "execution_count": null,
   "metadata": {},
   "outputs": [],
   "source": []
  }
 ],
 "metadata": {
  "kernelspec": {
   "display_name": "Python 3",
   "language": "python",
   "name": "python3"
  },
  "language_info": {
   "codemirror_mode": {
    "name": "ipython",
    "version": 3
   },
   "file_extension": ".py",
   "mimetype": "text/x-python",
   "name": "python",
   "nbconvert_exporter": "python",
   "pygments_lexer": "ipython3",
   "version": "3.6.9"
  }
 },
 "nbformat": 4,
 "nbformat_minor": 2
}
