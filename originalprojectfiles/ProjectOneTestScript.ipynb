{
 "cells": [
  {
   "cell_type": "code",
   "execution_count": 1,
   "metadata": {},
   "outputs": [
    {
     "name": "stdout",
     "output_type": "stream",
     "text": [
      "Collecting pymongo\n",
      "  Using cached https://files.pythonhosted.org/packages/6f/a3/3af16e90f34a90837ff4fe0f52cda602b5ec208307b05927d038d1af0b11/pymongo-3.13.0-cp27-cp27mu-manylinux1_x86_64.whl\n",
      "Installing collected packages: pymongo\n",
      "Successfully installed pymongo-3.13.0\n"
     ]
    }
   ],
   "source": [
    "# Install pymongo if it is not already installed\n",
    "!pip install pymongo\n",
    "\n",
    "import pymongo\n",
    "import json\n",
    "\n",
    "# Connect to the MongoDB instance\n",
    "client = pymongo.MongoClient(\"mongodb://localhost:53598/\")"
   ]
  },
  {
   "cell_type": "code",
   "execution_count": 6,
   "metadata": {},
   "outputs": [],
   "source": [
    "# Get the 'animals' database\n",
    "db = client[\"animals\"]\n",
    "\n",
    "# Get the 'animals' collection\n",
    "animals = db[\"animals\"]"
   ]
  },
  {
   "cell_type": "code",
   "execution_count": 14,
   "metadata": {},
   "outputs": [],
   "source": [
    "animal_data = [\n",
    "    {\n",
    "        \"name\": \"bark\",\n",
    "        \"type\": \"dog\",\n",
    "       \"color\": \"brown\"\n",
    "    },\n",
    "    {\n",
    "        \"name\": \"meow\",\n",
    "        \"type\": \"cat\",\n",
    "       \"color\": \"orange\"\n",
    "    },\n",
    "    {\n",
    "        \"name\": \"squeek\",\n",
    "        \"type\": \"rat\",\n",
    "       \"color\": \"grey\"\n",
    "    }  \n",
    "]"
   ]
  },
  {
   "cell_type": "code",
   "execution_count": 15,
   "metadata": {},
   "outputs": [
    {
     "name": "stdout",
     "output_type": "stream",
     "text": [
      "[ObjectId('639e70c179b308fe635b4fb5'), ObjectId('639e70c179b308fe635b4fb6'), ObjectId('639e70c179b308fe635b4fb7')]\n"
     ]
    }
   ],
   "source": [
    "# Insert the animal data into the 'animals' collection\n",
    "insert_result = animals.insert_many(animal_data)\n",
    "print(insert_result.inserted_ids)"
   ]
  },
  {
   "cell_type": "code",
   "execution_count": 12,
   "metadata": {},
   "outputs": [
    {
     "name": "stdout",
     "output_type": "stream",
     "text": [
      "<pymongo.cursor.Cursor object at 0x7f052920b1d0>\n"
     ]
    }
   ],
   "source": [
    "# Find the animal with the name \"meow\"\n",
    "meow = animals.find({\"name\": \"meow\"})\n",
    "print(meow)"
   ]
  },
  {
   "cell_type": "code",
   "execution_count": 48,
   "metadata": {},
   "outputs": [
    {
     "name": "stdout",
     "output_type": "stream",
     "text": [
      "{'_id': ObjectId('639e70c179b308fe635b4fb5'), 'name': 'bark', 'type': 'monkey', 'color': 'brown'}\n"
     ]
    }
   ],
   "source": [
    "# Update the animal with the type \"dog\"\n",
    "dog = (animals.update_one({\"type\": \"dog\"}, {\"$set\": {\"type\": \"monkey\"}}))\n",
    "for x in animals.find({\"type\": \"monkey\"}):\n",
    "    print(x)"
   ]
  },
  {
   "cell_type": "code",
   "execution_count": 49,
   "metadata": {},
   "outputs": [],
   "source": [
    "# Delete the animal with the color \"grey\"\n",
    "grey = (animals.delete_one({\"color\": \"grey\"}))\n",
    "for x in animals.find({\"color\": \"grey\"}):\n",
    "    print(x)"
   ]
  },
  {
   "cell_type": "code",
   "execution_count": null,
   "metadata": {},
   "outputs": [],
   "source": []
  }
 ],
 "metadata": {
  "kernelspec": {
   "display_name": "Python 3",
   "language": "python",
   "name": "python3"
  },
  "language_info": {
   "codemirror_mode": {
    "name": "ipython",
    "version": 3
   },
   "file_extension": ".py",
   "mimetype": "text/x-python",
   "name": "python",
   "nbconvert_exporter": "python",
   "pygments_lexer": "ipython3",
   "version": "3.6.9"
  }
 },
 "nbformat": 4,
 "nbformat_minor": 2
}
