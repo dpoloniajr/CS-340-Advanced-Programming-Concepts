{
 "cells": [
  {
   "cell_type": "code",
   "execution_count": 1,
   "metadata": {
    "scrolled": true
   },
   "outputs": [
    {
     "name": "stdout",
     "output_type": "stream",
     "text": [
      "Collecting pymongo\n",
      "  Using cached https://files.pythonhosted.org/packages/6f/a3/3af16e90f34a90837ff4fe0f52cda602b5ec208307b05927d038d1af0b11/pymongo-3.13.0-cp27-cp27mu-manylinux1_x86_64.whl\n",
      "Installing collected packages: pymongo\n",
      "Successfully installed pymongo-3.13.0\n"
     ]
    }
   ],
   "source": [
    "from jupyter_plotly_dash import JupyterDash\n",
    "import dash\n",
    "import dash_leaflet as dl\n",
    "import dash_core_components as dcc\n",
    "import dash_html_components as html\n",
    "import plotly.express as px\n",
    "import dash_table as dt\n",
    "from dash.dependencies import Input, Output, State\n",
    "import os\n",
    "import numpy as np\n",
    "import pandas as pd\n",
    "from pymongo import MongoClient\n",
    "from bson.json_util import dumps\n",
    "import base64\n",
    "\n",
    "\n",
    "# Install pymongo if it is not already installed\n",
    "!pip install pymongo\n",
    "\n",
    "import pymongo\n",
    "import json\n",
    "\n",
    "# Connect to the MongoDB instance\n",
    "client = pymongo.MongoClient(\"mongodb://localhost:53598/\")"
   ]
  },
  {
   "cell_type": "code",
   "execution_count": 20,
   "metadata": {},
   "outputs": [
    {
     "ename": "AttributeError",
     "evalue": "'tuple' object has no attribute 'read'",
     "output_type": "error",
     "traceback": [
      "\u001b[0;31m---------------------------------------------------------------------------\u001b[0m",
      "\u001b[0;31mAttributeError\u001b[0m                            Traceback (most recent call last)",
      "\u001b[0;32m<ipython-input-20-e0a0ee4d6305>\u001b[0m in \u001b[0;36m<module>\u001b[0;34m\u001b[0m\n\u001b[1;32m     21\u001b[0m \u001b[0;34m\u001b[0m\u001b[0m\n\u001b[1;32m     22\u001b[0m \u001b[0;31m# class read method must support return of cursor object and accept projection json input\u001b[0m\u001b[0;34m\u001b[0m\u001b[0;34m\u001b[0m\u001b[0;34m\u001b[0m\u001b[0m\n\u001b[0;32m---> 23\u001b[0;31m \u001b[0mdf\u001b[0m \u001b[0;34m=\u001b[0m \u001b[0mpd\u001b[0m\u001b[0;34m.\u001b[0m\u001b[0mDataFrame\u001b[0m\u001b[0;34m.\u001b[0m\u001b[0mfrom_records\u001b[0m\u001b[0;34m(\u001b[0m\u001b[0mshelter\u001b[0m\u001b[0;34m.\u001b[0m\u001b[0mread\u001b[0m\u001b[0;34m(\u001b[0m\u001b[0;34m{\u001b[0m\u001b[0;34m}\u001b[0m\u001b[0;34m)\u001b[0m\u001b[0;34m)\u001b[0m\u001b[0;34m\u001b[0m\u001b[0;34m\u001b[0m\u001b[0m\n\u001b[0m",
      "\u001b[0;31mAttributeError\u001b[0m: 'tuple' object has no attribute 'read'"
     ]
    }
   ],
   "source": [
    "#### FIX ME #####\n",
    "# change animal_shelter and AnimalShelter to match your CRUD Python module file name and class name\n",
    "\n",
    "import CrudModule\n",
    "\n",
    "# Get the 'animals' database\n",
    "db = client[\"animals\"]\n",
    "\n",
    "# Get the 'animals' collection\n",
    "animals = db[\"animals\"]\n",
    "\n",
    "###########################\n",
    "# Data Manipulation / Model\n",
    "###########################\n",
    "# FIX ME update with your username and password and CRUD Python module name\n",
    "\n",
    "username = \"aacuser\"\n",
    "password = \"UserCS340\"\n",
    "shelter = (username, password)\n",
    "\n",
    "\n",
    "# class read method must support return of cursor object and accept projection json input\n",
    "df = pd.DataFrame.from_records(shelter.read({}))"
   ]
  },
  {
   "cell_type": "code",
   "execution_count": 23,
   "metadata": {},
   "outputs": [
    {
     "ename": "SyntaxError",
     "evalue": "invalid syntax (<ipython-input-23-1add0f27ecbc>, line 45)",
     "output_type": "error",
     "traceback": [
      "\u001b[0;36m  File \u001b[0;32m\"<ipython-input-23-1add0f27ecbc>\"\u001b[0;36m, line \u001b[0;32m45\u001b[0m\n\u001b[0;31m    def update_styles(selected_columns):\u001b[0m\n\u001b[0m      ^\u001b[0m\n\u001b[0;31mSyntaxError\u001b[0m\u001b[0;31m:\u001b[0m invalid syntax\n"
     ]
    }
   ],
   "source": [
    "#########################\n",
    "# Dashboard Layout / View\n",
    "#########################\n",
    "\n",
    "app = JupyterDash('Domingo Polonia')\n",
    "\n",
    "app.layout = html.Div([\n",
    "    html.Div(id='hidden-div', style={'display':'none'}),\n",
    "    html.Center(html.B(html.H1('Hello Domingo Polonia'))),\n",
    "    html.Hr(),\n",
    "    dash_table.DataTable(\n",
    "        id='datatable-id',\n",
    "        columns=[\n",
    "            {\"name\": i, \"id\": i, \"deletable\": False, \"selectable\": True} for i in df.columns\n",
    "        ],\n",
    "        data=df.to_dict('records'),\n",
    "        \n",
    "#FIXME: Set up the features for your interactive data table to make it user-friendly for your client\n",
    "\n",
    "    html.Div(className='row',\n",
    "         style={'display' : 'flex'},\n",
    "             children=[\n",
    "        html.Div(\n",
    "            #dcc.Graph(id='graph-id'),\n",
    "            id='graph-id',\n",
    "            className='col s12 m6',\n",
    "\n",
    "            ),\n",
    "        html.Div(\n",
    "            id='map-id',\n",
    "            className='col s12 m6',\n",
    "            )\n",
    "        ])\n",
    "    )\n",
    "\n",
    "#############################################\n",
    "# Interaction Between Components / Controller\n",
    "#############################################\n",
    "#This callback will highlight a row on the data table when the user selects it\n",
    "\n",
    "@app.callback(\n",
    "    Output('map-id', \"children\"),\n",
    "    [Input('datatable-id', \"derived_viewport_data\")])\n",
    "\n",
    "def update_styles(selected_columns):\n",
    "    return [{\n",
    "        'if': { 'column_id': i },\n",
    "        'background_color': '#D2F3FF'\n",
    "    } for i in selected_columns]\n",
    "    \n",
    "#FIXME Add in the code for your geolocation chart\n",
    "    \n",
    "def update_map(viewData):\n",
    "        dff = pd.DataFrame.from_dict(viewData)\n",
    "    # Austin TX is at [30.75,-97.48]\n",
    "return [\n",
    "        dl.Map(style={'width': '1000px', 'height': '500px'}, center=[30.75,-97.48], zoom=10, children=[\n",
    "            dl.TileLayer(id=\"base-layer-id\"),\n",
    "            # Marker with tool tip and popup\n",
    "            dl.Marker(position=[30.75,-97.48], children=[\n",
    "                dl.Tooltip(dff.iloc[0,4]),\n",
    "                dl.Popup([\n",
    "                    html.H1(\"Animal Name\"),\n",
    "                    html.P(dff.iloc[1,9])\n",
    "                ])\n",
    "            ])\n",
    "        ])\n",
    "    ]\n",
    "    \n",
    "app"
   ]
  },
  {
   "cell_type": "code",
   "execution_count": null,
   "metadata": {},
   "outputs": [],
   "source": []
  }
 ],
 "metadata": {
  "kernelspec": {
   "display_name": "Python 3",
   "language": "python",
   "name": "python3"
  },
  "language_info": {
   "codemirror_mode": {
    "name": "ipython",
    "version": 3
   },
   "file_extension": ".py",
   "mimetype": "text/x-python",
   "name": "python",
   "nbconvert_exporter": "python",
   "pygments_lexer": "ipython3",
   "version": "3.6.9"
  }
 },
 "nbformat": 4,
 "nbformat_minor": 2
}
